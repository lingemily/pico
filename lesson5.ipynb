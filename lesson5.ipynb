{
 "cells": [
  {
   "cell_type": "code",
   "execution_count": 6,
   "metadata": {},
   "outputs": [
    {
     "name": "stdout",
     "output_type": "stream",
     "text": [
      "輸入顧客購買金額:40500.0\n"
     ]
    }
   ],
   "source": [
    "import pyinputplus as pyip\n",
    "\n",
    "payment = pyip.inputInt(\"輸入顧客購買金額:\",min=0)\n",
    "\n",
    "if payment >= 100000:\n",
    "    print(payment*0.8)\n",
    "elif payment >= 50000:\n",
    "    print(payment*0.85)\n",
    "elif payment >= 30000:\n",
    "    print(payment*0.9)\n",
    "elif payment >= 10000:\n",
    "    print(payment*0.95)\n",
    "else:\n",
    "    print(payment*1.0)"
   ]
  },
  {
   "cell_type": "code",
   "execution_count": 15,
   "metadata": {},
   "outputs": [
    {
     "name": "stdout",
     "output_type": "stream",
     "text": [
      "1 * 1 =  1    1 * 2 =  2    1 * 3 =  3    1 * 4 =  4    1 * 5 =  5    1 * 6 =  6    1 * 7 =  7    1 * 8 =  8    1 * 9 =  9    \n",
      "2 * 1 =  2    2 * 2 =  4    2 * 3 =  6    2 * 4 =  8    2 * 5 = 10    2 * 6 = 12    2 * 7 = 14    2 * 8 = 16    2 * 9 = 18    \n",
      "3 * 1 =  3    3 * 2 =  6    3 * 3 =  9    3 * 4 = 12    3 * 5 = 15    3 * 6 = 18    3 * 7 = 21    3 * 8 = 24    3 * 9 = 27    \n",
      "4 * 1 =  4    4 * 2 =  8    4 * 3 = 12    4 * 4 = 16    4 * 5 = 20    4 * 6 = 24    4 * 7 = 28    4 * 8 = 32    4 * 9 = 36    \n",
      "5 * 1 =  5    5 * 2 = 10    5 * 3 = 15    5 * 4 = 20    5 * 5 = 25    5 * 6 = 30    5 * 7 = 35    5 * 8 = 40    5 * 9 = 45    \n",
      "6 * 1 =  6    6 * 2 = 12    6 * 3 = 18    6 * 4 = 24    6 * 5 = 30    6 * 6 = 36    6 * 7 = 42    6 * 8 = 48    6 * 9 = 54    \n",
      "7 * 1 =  7    7 * 2 = 14    7 * 3 = 21    7 * 4 = 28    7 * 5 = 35    7 * 6 = 42    7 * 7 = 49    7 * 8 = 56    7 * 9 = 63    \n",
      "8 * 1 =  8    8 * 2 = 16    8 * 3 = 24    8 * 4 = 32    8 * 5 = 40    8 * 6 = 48    8 * 7 = 56    8 * 8 = 64    8 * 9 = 72    \n",
      "9 * 1 =  9    9 * 2 = 18    9 * 3 = 27    9 * 4 = 36    9 * 5 = 45    9 * 6 = 54    9 * 7 = 63    9 * 8 = 72    9 * 9 = 81    \n"
     ]
    }
   ],
   "source": [
    "#巢狀迴圈\n",
    "#換行\\n\n",
    "\n",
    "\n",
    "for i in range(1,10):\n",
    "    for j in range(1,10):\n",
    "        print(f\"{i:<2}*{j:2} = {i*j:2} \", end=\"   \")\n",
    "    print()"
   ]
  },
  {
   "cell_type": "code",
   "execution_count": 11,
   "metadata": {},
   "outputs": [
    {
     "name": "stdout",
     "output_type": "stream",
     "text": [
      "請輸入國文分數:100\n",
      "請輸入數學分數:97\n",
      "獎金:500\n"
     ]
    }
   ],
   "source": [
    "#國文100,同時數學100,獎金1000\n",
    "#國文100,或者數學100,獎金500\n",
    "#其它獎金0\n",
    "\n",
    "chinese = pyip.inputInt(\"請輸入國文分數:\",min=0,max=100)\n",
    "print(chinese)\n",
    "math = pyip.inputInt(\"請輸入數學分數:\",min=0,max=100)\n",
    "print(math)\n",
    "bonus = 0\n",
    "\n",
    "#巢狀判斷\n",
    "if chinese == 100:\n",
    "    if math == 100:\n",
    "        bonus = 1000\n",
    "    else:\n",
    "        bonus = 500\n",
    "elif math == 100:\n",
    "    bonus = 500\n",
    "\n",
    "print(f\"獎金:{bonus}\")"
   ]
  },
  {
   "cell_type": "code",
   "execution_count": 10,
   "metadata": {},
   "outputs": [
    {
     "name": "stdout",
     "output_type": "stream",
     "text": [
      "請輸入國文分數:100\n",
      "請輸入數學分數:98\n",
      "獎金:500\n"
     ]
    }
   ],
   "source": [
    "#國文100,同時數學100,獎金1000\n",
    "#國文100,或者數學100,獎金500\n",
    "#其它獎金0\n",
    "\n",
    "chinese = pyip.inputInt(\"請輸入國文分數:\",min=0,max=100)\n",
    "print(chinese)\n",
    "math = pyip.inputInt(\"請輸入數學分數:\",min=0,max=100)\n",
    "print(math)\n",
    "bonus = 0\n",
    "\n",
    "if chinese == 100 and math == 100:\n",
    "    bonus = 1000\n",
    "elif chinese == 100 or math ==100:\n",
    "    bonus = 500\n",
    "\n",
    "print(f\"獎金:{bonus}\")"
   ]
  },
  {
   "cell_type": "code",
   "execution_count": 13,
   "metadata": {},
   "outputs": [
    {
     "name": "stdout",
     "output_type": "stream",
     "text": [
      "1..10的總合是:55\n"
     ]
    }
   ],
   "source": [
    "value = 0\n",
    "value += 1\n",
    "value += 2\n",
    "value += 3\n",
    "value += 4\n",
    "value += 5\n",
    "value += 6\n",
    "value += 7\n",
    "value += 8\n",
    "value += 9\n",
    "value += 10\n",
    "print(f\"1..10的總合是:{value}\")\n"
   ]
  },
  {
   "cell_type": "code",
   "execution_count": 15,
   "metadata": {},
   "outputs": [
    {
     "name": "stdout",
     "output_type": "stream",
     "text": [
      "1..10的總和是:55\n"
     ]
    }
   ],
   "source": [
    "#1加到10的總和\n",
    "\n",
    "value = 0\n",
    "for i in range(1,11):\n",
    "    value += i\n",
    "    \n",
    "print(f\"1..10的總和是:{value}\")"
   ]
  },
  {
   "cell_type": "markdown",
   "metadata": {},
   "source": []
  },
  {
   "cell_type": "code",
   "execution_count": 16,
   "metadata": {},
   "outputs": [
    {
     "name": "stdout",
     "output_type": "stream",
     "text": [
      "1..1000的總和是:500500\n"
     ]
    }
   ],
   "source": [
    "#1加到1000的總和\n",
    "\n",
    "value = 0\n",
    "for i in range(1,1001):\n",
    "    value += i\n",
    "    \n",
    "print(f\"1..1000的總和是:{value}\")"
   ]
  },
  {
   "cell_type": "code",
   "execution_count": null,
   "metadata": {},
   "outputs": [],
   "source": [
    "#1加到1000的總和\n",
    "import pyinputplus as pyip\n",
    "\n",
    "start = pyip.inputInt(\"請輸入起始值:\",min=0,max=10000)\n",
    "print(start)\n",
    "\n",
    "value = 0 \n",
    "for i in range(1,1001):\n",
    "    value += i\n",
    "    \n",
    "print(f\"1..1000的總和是:{value}\")"
   ]
  }
 ],
 "metadata": {
  "kernelspec": {
   "display_name": "Python 3",
   "language": "python",
   "name": "python3"
  },
  "language_info": {
   "codemirror_mode": {
    "name": "ipython",
    "version": 3
   },
   "file_extension": ".py",
   "mimetype": "text/x-python",
   "name": "python",
   "nbconvert_exporter": "python",
   "pygments_lexer": "ipython3",
   "version": "3.10.13"
  }
 },
 "nbformat": 4,
 "nbformat_minor": 2
}

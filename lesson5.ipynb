{
 "cells": [
  {
   "cell_type": "code",
   "execution_count": 4,
   "metadata": {},
   "outputs": [
    {
     "name": "stdout",
     "output_type": "stream",
     "text": [
      "輸入顧客購買金額:160000.0\n"
     ]
    }
   ],
   "source": [
    "#輸入顧客購買金額，若金額在\n",
    "#100000元打8折.\n",
    "#50000打85折.\n",
    "#30000打9折.\n",
    "#10000打95折.\n",
    "\n",
    "import pyinputplus as pyip\n",
    "\n",
    "payment = pyip.inputInt(\"輸入顧客購買金額:\",min=0)\n",
    "\n",
    "if payment >= 100000:\n",
    "    print(payment*0.8)\n",
    "elif payment >= 50000:\n",
    "    print(payment*0.85)\n",
    "elif payment >= 30000:\n",
    "    print(payment*0.9)\n",
    "elif payment >= 10000:\n",
    "    print(payment*0.95)\n",
    "else:\n",
    "    print(payment*1.0)"
   ]
  },
  {
   "cell_type": "code",
   "execution_count": 9,
   "metadata": {},
   "outputs": [
    {
     "name": "stdout",
     "output_type": "stream",
     "text": [
      "請輸入國文分數:0\n",
      "請輸入數學分數:100\n",
      "獎金:500\n"
     ]
    }
   ],
   "source": [
    "#國文100,同時數學100,獎金1000\n",
    "#國文100,或者數學100,獎金500\n",
    "#其它獎金0\n",
    "\n",
    "chinese = pyip.inputInt(\"請輸入國文分數:\",min=0,max=100)\n",
    "print(chinese)\n",
    "math = pyip.inputInt(\"請輸入數學分數:\",min=0,max=100)\n",
    "print(math)\n",
    "bonus = 0\n",
    "\n",
    "#巢狀判斷\n",
    "if chinese == 100:\n",
    "    if math == 100:\n",
    "        bonus = 1000\n",
    "    else:\n",
    "        bonus = 500\n",
    "elif math == 100:\n",
    "    bonus = 500\n",
    "\n",
    "print(f\"獎金:{bonus}\")"
   ]
  },
  {
   "cell_type": "code",
   "execution_count": 10,
   "metadata": {},
   "outputs": [
    {
     "name": "stdout",
     "output_type": "stream",
     "text": [
      "請輸入國文分數:100\n",
      "請輸入數學分數:98\n",
      "獎金:500\n"
     ]
    }
   ],
   "source": [
    "#國文100,同時數學100,獎金1000\n",
    "#國文100,或者數學100,獎金500\n",
    "#其它獎金0\n",
    "\n",
    "chinese = pyip.inputInt(\"請輸入國文分數:\",min=0,max=100)\n",
    "print(chinese)\n",
    "math = pyip.inputInt(\"請輸入數學分數:\",min=0,max=100)\n",
    "print(math)\n",
    "bonus = 0\n",
    "\n",
    "if chinese == 100 and math == 100:\n",
    "    bonus = 1000\n",
    "elif chinese == 100 or math ==100:\n",
    "    bonus = 500\n",
    "\n",
    "print(f\"獎金:{bonus}\")"
   ]
  },
  {
   "cell_type": "code",
   "execution_count": 10,
   "metadata": {},
   "outputs": [
    {
     "name": "stdout",
     "output_type": "stream",
     "text": [
      "1..10的總合是:55\n"
     ]
    }
   ],
   "source": [
    "value = 0\n",
    "value += 1\n",
    "value += 2\n",
    "value += 3\n",
    "value += 4\n",
    "value += 5\n",
    "value += 6\n",
    "value += 7\n",
    "value += 8\n",
    "value += 9\n",
    "value += 10\n",
    "print(f\"1..10的總合是:{value}\")\n"
   ]
  },
  {
   "cell_type": "code",
   "execution_count": 26,
   "metadata": {},
   "outputs": [
    {
     "name": "stdout",
     "output_type": "stream",
     "text": [
      "1..10的總和是:55\n"
     ]
    }
   ],
   "source": [
    "#1加到10的總和\n",
    "\n",
    "value = 0\n",
    "for i in range(1,11):\n",
    "    value += i\n",
    "    \n",
    "print(f\"1..10的總和是:{value}\")"
   ]
  },
  {
   "cell_type": "code",
   "execution_count": 27,
   "metadata": {},
   "outputs": [
    {
     "name": "stdout",
     "output_type": "stream",
     "text": [
      "2\n",
      "4\n",
      "6\n",
      "8\n",
      "10\n",
      "12\n",
      "14\n",
      "16\n",
      "18\n",
      "20\n",
      "22\n",
      "24\n",
      "26\n",
      "28\n",
      "30\n",
      "32\n",
      "34\n",
      "36\n",
      "38\n",
      "40\n",
      "42\n",
      "44\n",
      "46\n",
      "48\n",
      "50\n",
      "1..50的偶數總和是:1275\n"
     ]
    }
   ],
   "source": [
    "#1加到50的偶數總和\n",
    "value = 0\n",
    "for i in range(1,51):\n",
    "    if i % 2 == 0:\n",
    "        print(i)\n",
    "\n",
    "    value += i\n",
    "print(f\"1..50的偶數總和是:{value}\")\n"
   ]
  },
  {
   "cell_type": "code",
   "execution_count": 28,
   "metadata": {},
   "outputs": [
    {
     "name": "stdout",
     "output_type": "stream",
     "text": [
      "1\n",
      "3\n",
      "5\n",
      "7\n",
      "9\n",
      "11\n",
      "13\n",
      "15\n",
      "17\n",
      "19\n",
      "21\n",
      "23\n",
      "25\n",
      "27\n",
      "29\n",
      "31\n",
      "33\n",
      "35\n",
      "37\n",
      "39\n",
      "41\n",
      "43\n",
      "45\n",
      "47\n",
      "49\n",
      "1..50的奇數總和是:1275\n"
     ]
    }
   ],
   "source": [
    "#1加到50的奇數總和\n",
    "value = 0\n",
    "for i in range(1,51):\n",
    "    if i % 2 == 1:\n",
    "        print(i)\n",
    "\n",
    "    value += i\n",
    "print(f\"1..50的奇數總和是:{value}\")"
   ]
  },
  {
   "cell_type": "markdown",
   "metadata": {},
   "source": []
  },
  {
   "cell_type": "code",
   "execution_count": 16,
   "metadata": {},
   "outputs": [
    {
     "name": "stdout",
     "output_type": "stream",
     "text": [
      "1..1000的總和是:500500\n"
     ]
    }
   ],
   "source": [
    "#1加到1000的總和\n",
    "\n",
    "value = 0\n",
    "for i in range(1,1001):\n",
    "    value += i\n",
    "    \n",
    "print(f\"1..1000的總和是:{value}\")"
   ]
  },
  {
   "cell_type": "code",
   "execution_count": 30,
   "metadata": {},
   "outputs": [
    {
     "name": "stdout",
     "output_type": "stream",
     "text": [
      "請輸入起始值:1\n",
      "1..1000的總和是:500500\n"
     ]
    }
   ],
   "source": [
    "#1加到1000的總和\n",
    "import pyinputplus as pyip\n",
    "\n",
    "start = pyip.inputInt(\"請輸入起始值:\",min=0,max=1000)\n",
    "print(start)\n",
    "\n",
    "value = 0 \n",
    "for i in range(1,1001):\n",
    "    value += i\n",
    "    \n",
    "print(f\"1..1000的總和是:{value}\")"
   ]
  },
  {
   "cell_type": "code",
   "execution_count": 19,
   "metadata": {},
   "outputs": [
    {
     "name": "stdout",
     "output_type": "stream",
     "text": [
      "1 * 1 =  1    1 * 2 =  2    1 * 3 =  3    1 * 4 =  4    1 * 5 =  5    1 * 6 =  6    1 * 7 =  7    1 * 8 =  8    1 * 9 =  9    \n",
      "2 * 1 =  2    2 * 2 =  4    2 * 3 =  6    2 * 4 =  8    2 * 5 = 10    2 * 6 = 12    2 * 7 = 14    2 * 8 = 16    2 * 9 = 18    \n",
      "3 * 1 =  3    3 * 2 =  6    3 * 3 =  9    3 * 4 = 12    3 * 5 = 15    3 * 6 = 18    3 * 7 = 21    3 * 8 = 24    3 * 9 = 27    \n",
      "4 * 1 =  4    4 * 2 =  8    4 * 3 = 12    4 * 4 = 16    4 * 5 = 20    4 * 6 = 24    4 * 7 = 28    4 * 8 = 32    4 * 9 = 36    \n",
      "5 * 1 =  5    5 * 2 = 10    5 * 3 = 15    5 * 4 = 20    5 * 5 = 25    5 * 6 = 30    5 * 7 = 35    5 * 8 = 40    5 * 9 = 45    \n",
      "6 * 1 =  6    6 * 2 = 12    6 * 3 = 18    6 * 4 = 24    6 * 5 = 30    6 * 6 = 36    6 * 7 = 42    6 * 8 = 48    6 * 9 = 54    \n",
      "7 * 1 =  7    7 * 2 = 14    7 * 3 = 21    7 * 4 = 28    7 * 5 = 35    7 * 6 = 42    7 * 7 = 49    7 * 8 = 56    7 * 9 = 63    \n",
      "8 * 1 =  8    8 * 2 = 16    8 * 3 = 24    8 * 4 = 32    8 * 5 = 40    8 * 6 = 48    8 * 7 = 56    8 * 8 = 64    8 * 9 = 72    \n",
      "9 * 1 =  9    9 * 2 = 18    9 * 3 = 27    9 * 4 = 36    9 * 5 = 45    9 * 6 = 54    9 * 7 = 63    9 * 8 = 72    9 * 9 = 81    \n"
     ]
    }
   ],
   "source": [
    "#巢狀迴圈 for in\n",
    "#換行\\n\n",
    "\n",
    "for i in range(1,10):\n",
    "    for j in range(1,10):\n",
    "        print(f\"{i:<2}*{j:2} = {i*j:2} \", end=\"   \")\n",
    "    print()"
   ]
  },
  {
   "cell_type": "code",
   "execution_count": 48,
   "metadata": {},
   "outputs": [
    {
     "name": "stdout",
     "output_type": "stream",
     "text": [
      "1 * 1 =  1   1 * 2 =  2   1 * 3 =  3   1 * 4 =  4   1 * 5 =  5   \n",
      "2 * 1 =  2   2 * 2 =  4   2 * 3 =  6   2 * 4 =  8   2 * 5 = 10   \n",
      "3 * 1 =  3   3 * 2 =  6   3 * 3 =  9   3 * 4 = 12   3 * 5 = 15   \n",
      "4 * 1 =  4   4 * 2 =  8   4 * 3 = 12   4 * 4 = 16   4 * 5 = 20   \n",
      "5 * 1 =  5   5 * 2 = 10   5 * 3 = 15   5 * 4 = 20   5 * 5 = 25   \n"
     ]
    }
   ],
   "source": [
    "for i in range(1,6):\n",
    "    for j in range(1,6):\n",
    "        print(f\"{i:<2}*{j:2} = {i*j:2} \", end=\"  \")\n",
    "    print()"
   ]
  },
  {
   "cell_type": "code",
   "execution_count": 25,
   "metadata": {},
   "outputs": [
    {
     "data": {
      "text/plain": [
       "55"
      ]
     },
     "execution_count": 25,
     "metadata": {},
     "output_type": "execute_result"
    }
   ],
   "source": [
    "#while迴圈明確知道執行的次數\n",
    "\n",
    "value = 0\n",
    "i = 1\n",
    "while i <=10:\n",
    "    value += i\n",
    "    i += 1\n",
    "value\n"
   ]
  },
  {
   "cell_type": "code",
   "execution_count": 2,
   "metadata": {},
   "outputs": [
    {
     "name": "stdout",
     "output_type": "stream",
     "text": [
      "共執行的次數是:55\n"
     ]
    }
   ],
   "source": [
    "#while迴圈明確知道執行的次數\n",
    "\n",
    "value = 0\n",
    "i = 1\n",
    "while i <=10:\n",
    "    value += i\n",
    "    i += 1\n",
    "print(f\"共執行的次數是:{value}\")\n"
   ]
  },
  {
   "cell_type": "code",
   "execution_count": 3,
   "metadata": {},
   "outputs": [
    {
     "name": "stdout",
     "output_type": "stream",
     "text": [
      "請輸入本月份存款:"
     ]
    },
    {
     "name": "stdout",
     "output_type": "stream",
     "text": [
      "15000\n",
      "請輸入本月份存款:2000\n",
      "請輸入本月份存款:5000\n",
      "請輸入本月份存款:1920\n",
      "請輸入本月份存款:1000\n",
      "請輸入本月份存款:5000\n",
      "請輸入本月份存款:9000\n",
      "恭喜!您已經存夠了, 總存款金額:38920\n"
     ]
    }
   ],
   "source": [
    "#小明想要存錢買一輛機車,機車每輛30000元，他將每月存的錢輸入，當存款足夠買機車時，就顯示提示訊息告知。\n",
    "\n",
    "import pyinputplus as pyip\n",
    "\n",
    "deposit = 0\n",
    "while deposit < 30000:\n",
    "    month_value = pyip.inputInt(\"請輸入本月份存款:\")\n",
    "    print(month_value)\n",
    "    deposit += month_value\n",
    "print(f\"恭喜!您已經存夠了, 總存款金額:{deposit}\")"
   ]
  },
  {
   "cell_type": "code",
   "execution_count": 5,
   "metadata": {},
   "outputs": [
    {
     "name": "stdout",
     "output_type": "stream",
     "text": [
      "請輸入第1月份存款:10000\n",
      "請輸入第2月份存款:9000\n",
      "請輸入第3月份存款:7500\n",
      "請輸入第4月份存款:8000\n",
      "恭喜!您已經存夠了,共存了4月, 總存款金額:34500\n"
     ]
    }
   ],
   "source": [
    "#小明想要存錢買一輛機車,機車每輛30000元，他將每月存的錢輸入，當存款足夠買機車時，就顯示提示訊息告知。\n",
    "#不知道執行的次數\n",
    "\n",
    "import pyinputplus as pyip\n",
    "\n",
    "num = 0\n",
    "deposit = 0\n",
    "while deposit < 30000:\n",
    "    num += 1\n",
    "    month_value = pyip.inputInt(f\"請輸入第{num}月份存款:\")\n",
    "    print(month_value)\n",
    "    deposit += month_value\n",
    "print(f\"恭喜!您已經存夠了,共存了{num}月, 總存款金額:{deposit}\")"
   ]
  },
  {
   "cell_type": "code",
   "execution_count": 7,
   "metadata": {},
   "outputs": [],
   "source": [
    "#小美是一位教師，請你以while迴圈方式為小美設計一個輸入成績的程式，如果輸入負數表示成績輸入結束，在輸入成績結束後顯示班上總成績及平均成績。\n",
    "inputValue = 0\n",
    "sum = 0\n",
    "while(inputValue >= 0):    \n",
    "    inputValue = pyip.inputInt(\"請輸入學生成績:\")\n",
    "    print(inputValue)\n",
    "    if inputValue >= 0:\n",
    "        sum += inputValue\n",
    "       \n",
    "print(f\"學生總分為:{sum}\")"
   ]
  },
  {
   "cell_type": "code",
   "execution_count": 3,
   "metadata": {},
   "outputs": [
    {
     "name": "stdout",
     "output_type": "stream",
     "text": [
      "請輸入第1門功課學生成績:100\n",
      "請輸入第2門功課學生成績:Blank values are not allowed.\n",
      "請輸入第2門功課學生成績:98\n",
      "請輸入第3門功課學生成績:98\n",
      "請輸入第4門功課學生成績:-2\n",
      "學生總分為:296,平均成績為:74.0\n"
     ]
    }
   ],
   "source": [
    "#小美是一位教師，請你以while迴圈方式為小美設計一個輸入成績的程式，如果輸入負數表示成績輸入結束，在輸入成績結束後顯示班上總成績及平均成績。\n",
    "import pyinputplus as pyip\n",
    "\n",
    "inputValue = 0\n",
    "sum = 0\n",
    "num = 0\n",
    "while(inputValue >= 0): \n",
    "    num += 1   \n",
    "    inputValue = pyip.inputInt(f\"請輸入第{num}門功課學生成績:\")\n",
    "    print(inputValue)\n",
    "    if inputValue >= 0:\n",
    "        sum += inputValue\n",
    "       \n",
    "print(f\"學生總分為:{sum},平均成績為:{sum/num}\")\n",
    "\n",
    "#這個程式奇怪在若是負數平均成績也被算入,需調整"
   ]
  },
  {
   "cell_type": "code",
   "execution_count": 29,
   "metadata": {},
   "outputs": [
    {
     "name": "stdout",
     "output_type": "stream",
     "text": [
      "請輸入學生成績:100\n",
      "請輸入學生成績:100\n",
      "請輸入學生成績:100\n",
      "請輸入學生成績:-2\n",
      "學生總分為:300\n"
     ]
    }
   ],
   "source": [
    "#小美是一位教師，請你以while迴圈方式為小美設計一個輸入成績的程式，如果輸入負數表示成績輸入結束，在輸入成績結束後顯示班上總成績及平均成績。\n",
    "sum = 0\n",
    "while(True):    \n",
    "    inputValue = pyip.inputInt(\"請輸入學生成績:\")\n",
    "    print(inputValue)\n",
    "    if inputValue < 0:\n",
    "        break\n",
    "    sum += inputValue\n",
    "    \n",
    "print(f\"學生總分為:{sum}\")\n"
   ]
  },
  {
   "cell_type": "code",
   "execution_count": 30,
   "metadata": {},
   "outputs": [
    {
     "name": "stdout",
     "output_type": "stream",
     "text": [
      "請輸入學生成績:100\n",
      "請輸入學生成績:100\n",
      "請輸入學生成績:100\n",
      "請輸入學生成績:-1\n",
      "學生總分為:300,學生的平均成績:100.0\n"
     ]
    }
   ],
   "source": [
    "#小美是一位教師，請你以while迴圈方式為小美設計一個輸入成績的程式，如果輸入負數表示成績輸入結束，在輸入成績結束後顯示班上總成績及平均成績。\n",
    "num = 0\n",
    "sum = 0\n",
    "while(True):    \n",
    "    inputValue = pyip.inputInt(\"請輸入學生成績:\")\n",
    "    print(inputValue)\n",
    "    if inputValue < 0:\n",
    "        break\n",
    "\n",
    "    num += 1\n",
    "    sum += inputValue\n",
    "    \n",
    "print(f\"學生總分為:{sum},學生的平均成績:{sum/num}\")"
   ]
  },
  {
   "cell_type": "code",
   "execution_count": 35,
   "metadata": {},
   "outputs": [
    {
     "name": "stdout",
     "output_type": "stream",
     "text": [
      "請輸入收縮壓:150\n",
      "請輸入舒張壓:100\n",
      "高血壓二期\n"
     ]
    }
   ],
   "source": [
    "import pyinputplus as pyip\n",
    "\n",
    "sbp = pyip.inputInt(\"請輸入收縮壓:\")\n",
    "print(f\"{sbp}\")\n",
    "\n",
    "dbp = pyip.inputInt(\"請輸入舒張壓:\")\n",
    "print(f\"{dbp}\")\n",
    "\n",
    "\n",
    "if (120 < sbp < 129) and (dbp < 80):\n",
    "    suggestion = \"血壓升高\"\n",
    "elif (130 < sbp < 139) or (80 < dbp < 90):\n",
    "    suggestion = \"高血壓一期\"\n",
    "elif ( sbp >= 140) or (dbp >= 90):\n",
    "    suggestion = \"高血壓二期\"\n",
    "elif ( sbp >= 130) and (dbp < 80):\n",
    "    suggestion = \"單純收縮期高血壓\"\n",
    "else:\n",
    "    suggestion = \"正常\"\n",
    "\n",
    "print(f\"{suggestion}\")\n"
   ]
  },
  {
   "cell_type": "code",
   "execution_count": 38,
   "metadata": {},
   "outputs": [
    {
     "name": "stdout",
     "output_type": "stream",
     "text": [
      "25\n",
      "81\n",
      "應用程式結束\n"
     ]
    }
   ],
   "source": [
    "#顯示:\n",
    "#奇數輸出平方\n",
    "#偶數不做任何動作\n",
    "#\"q\"要離開\n",
    "\n",
    "while (True):\n",
    "    value = input(\"請輸入整數,輸入[q]離開:\")\n",
    "    if value == 'q':\n",
    "        break\n",
    "\n",
    "    valueInt = int(value)\n",
    "    if (valueInt % 2) == 1:\n",
    "        print(f\"{valueInt}的平方是:{valueInt**2}\")\n",
    "    else:\n",
    "        print(\"不做事\")\n",
    "\n",
    "print(\"應用程式結束\")\n"
   ]
  },
  {
   "cell_type": "code",
   "execution_count": 42,
   "metadata": {},
   "outputs": [
    {
     "name": "stdout",
     "output_type": "stream",
     "text": [
      "輸入錯誤,請重新輸入\n",
      "15的平方是:225\n",
      "不做事\n",
      "應用程式結束\n"
     ]
    }
   ],
   "source": [
    "#顯示:\n",
    "#奇數輸出平方\n",
    "#偶數不做任何動作\n",
    "#\"q\"要離開\n",
    "\n",
    "while (True):\n",
    "    value = input(\"請輸入整數,輸入[q]離開:\")\n",
    "    if value == 'q':\n",
    "        break\n",
    "    try:\n",
    "        valueInt = int(value)\n",
    "    except:\n",
    "        print(\"輸入錯誤,請重新輸入\")\n",
    "        continue\n",
    "\n",
    "    if (valueInt % 2) == 1:\n",
    "        print(f\"{valueInt}的平方是:{valueInt**2}\")\n",
    "    else:\n",
    "        print(\"不做事\")\n",
    "\n",
    "print(\"應用程式結束\")\n"
   ]
  },
  {
   "cell_type": "code",
   "execution_count": null,
   "metadata": {},
   "outputs": [],
   "source": [
    "import random\n",
    "import pyinputplus as pyip\n",
    "\n",
    "min = 1\n",
    "max = 100\n",
    "count = 0\n",
    "randomNum = random.randint(min,max)\n",
    "\n",
    "print(\"===========猜數字遊戲=============\")\n",
    "while True:\n",
    "    keyin = pyip.inputInt(f\"猜數字範圍{min}~{max}:\",min=min,max=max)\n",
    "    print(keyin)\n",
    "    count += 1\n",
    "    if(keyin == randomNum):\n",
    "        print(f\"賓果!猜對了, 答案是:{randomNum}\")\n",
    "        print(f\"您共猜了:{count}次\")\n",
    "        break\n",
    "    elif keyin > randomNum:\n",
    "        print(\"再小一點\")\n",
    "        max = keyin - 1\n",
    "    elif keyin < randomNum:\n",
    "        print(\"再大一點\")\n",
    "        min = keyin + 1\n",
    "    print(f\"您已經猜了{count}次\")\n",
    "\n",
    "print(\"Game Over!\")"
   ]
  }
 ],
 "metadata": {
  "kernelspec": {
   "display_name": "Python 3",
   "language": "python",
   "name": "python3"
  },
  "language_info": {
   "codemirror_mode": {
    "name": "ipython",
    "version": 3
   },
   "file_extension": ".py",
   "mimetype": "text/x-python",
   "name": "python",
   "nbconvert_exporter": "python",
   "pygments_lexer": "ipython3",
   "version": "3.10.13"
  }
 },
 "nbformat": 4,
 "nbformat_minor": 2
}

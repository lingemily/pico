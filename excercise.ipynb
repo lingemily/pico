{
 "cells": [
  {
   "cell_type": "code",
   "execution_count": 3,
   "metadata": {},
   "outputs": [
    {
     "name": "stdout",
     "output_type": "stream",
     "text": [
      "請輸入學生分數:95\n",
      "優\n"
     ]
    }
   ],
   "source": [
    "#請輸入學生分數(0~100)\n",
    "#0~60,不及格\n",
    "#60~80,及格\n",
    "#80~100,優\n",
    "#檢查超出範圍,格式\n",
    "#if and elif使用\n",
    "\n",
    "import pyinputplus as pyip\n",
    "\n",
    "scores = pyip.inputInt(\"請輸入學生分數:\", min=0, max=100)\n",
    "print(scores)\n",
    "\n",
    "if scores < 60:\n",
    "    print(\"不及格\")\n",
    "elif scores < 80:\n",
    "    print(\"及格\")\n",
    "else:\n",
    "    print(\"優\")\n"
   ]
  },
  {
   "cell_type": "code",
   "execution_count": 3,
   "metadata": {},
   "outputs": [
    {
     "name": "stdout",
     "output_type": "stream",
     "text": [
      "請輸入學生分數:88\n",
      "優\n"
     ]
    }
   ],
   "source": [
    "#請輸入學生分數(0~100)\n",
    "#0~60,不及格\n",
    "#60~80,及格\n",
    "#80~100,優\n",
    "#檢查超出範圍,格式\n",
    "#if , elif & else使用\n",
    "\n",
    "import pyinputplus as pyip\n",
    "\n",
    "scores = pyip.inputInt(\"請輸入學生分數:\",max=100,min=0)\n",
    "print(scores)\n",
    "\n",
    "if scores < 60:\n",
    "    print(\"不及格\")\n",
    "else:\n",
    "    if scores < 80:\n",
    "        print(\"及格\")\n",
    "    else:\n",
    "        print(\"優\")"
   ]
  }
 ],
 "metadata": {
  "kernelspec": {
   "display_name": "Python 3",
   "language": "python",
   "name": "python3"
  },
  "language_info": {
   "codemirror_mode": {
    "name": "ipython",
    "version": 3
   },
   "file_extension": ".py",
   "mimetype": "text/x-python",
   "name": "python",
   "nbconvert_exporter": "python",
   "pygments_lexer": "ipython3",
   "version": "3.10.13"
  }
 },
 "nbformat": 4,
 "nbformat_minor": 2
}

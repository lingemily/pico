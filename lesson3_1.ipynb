{
 "cells": [
  {
   "cell_type": "code",
   "execution_count": 1,
   "metadata": {},
   "outputs": [
    {
     "name": "stdout",
     "output_type": "stream",
     "text": [
      "Herll\n"
     ]
    }
   ],
   "source": [
    "print(\"Herll\")\n"
   ]
  },
  {
   "cell_type": "code",
   "execution_count": 4,
   "metadata": {},
   "outputs": [
    {
     "name": "stdout",
     "output_type": "stream",
     "text": [
      "[0,5,9,14]的平均值是7\n",
      "[0,5,9,14]的標準差是5.94418483337567\n"
     ]
    }
   ],
   "source": [
    "import statistics\n",
    "\n",
    "mean1= statistics.mean([0,5,9,14])\n",
    "std1=statistics.stdev([0,5,9,14])\n",
    "\n",
    "print(f'[0,5,9,14]的平均值是{mean1}')\n",
    "print(f'[0,5,9,14]的標準差是{std1}')"
   ]
  },
  {
   "cell_type": "code",
   "execution_count": 6,
   "metadata": {},
   "outputs": [
    {
     "name": "stdout",
     "output_type": "stream",
     "text": [
      "age=21\n",
      "已成年\n",
      "程式結束\n"
     ]
    }
   ],
   "source": [
    "age=21\n",
    "print(f\"age={age}\")\n",
    "\n",
    "if age>= 18:\n",
    "    print(\"已成年\")\n",
    "\n",
    "print(\"程式結束\")"
   ]
  },
  {
   "cell_type": "code",
   "execution_count": 8,
   "metadata": {},
   "outputs": [
    {
     "name": "stdout",
     "output_type": "stream",
     "text": [
      "age=17\n",
      "未成年\n",
      "程式結束\n"
     ]
    }
   ],
   "source": [
    "age=17\n",
    "print(f\"age={age}\")\n",
    "\n",
    "if age>= 18:\n",
    "    print(\"已成年\")\n",
    "else:\n",
    "    print(\"未成年\")\n",
    "\n",
    "print(\"程式結束\")"
   ]
  }
 ],
 "metadata": {
  "kernelspec": {
   "display_name": "Python 3",
   "language": "python",
   "name": "python3"
  },
  "language_info": {
   "codemirror_mode": {
    "name": "ipython",
    "version": 3
   },
   "file_extension": ".py",
   "mimetype": "text/x-python",
   "name": "python",
   "nbconvert_exporter": "python",
   "pygments_lexer": "ipython3",
   "version": "3.10.13"
  }
 },
 "nbformat": 4,
 "nbformat_minor": 2
}

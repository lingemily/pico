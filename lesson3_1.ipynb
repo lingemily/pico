{
 "cells": [
  {
   "cell_type": "code",
   "execution_count": 1,
   "metadata": {},
   "outputs": [
    {
     "name": "stdout",
     "output_type": "stream",
     "text": [
      "Hello\n"
     ]
    }
   ],
   "source": [
    "print(\"Hello\")\n"
   ]
  },
  {
   "cell_type": "code",
   "execution_count": 4,
   "metadata": {},
   "outputs": [
    {
     "name": "stdout",
     "output_type": "stream",
     "text": [
      "[0,5,9,14]的平均值是7\n",
      "[0,5,9,14]的標準差是5.94418483337567\n"
     ]
    }
   ],
   "source": [
    "import statistics     # statistics 代表數學統計函式\n",
    "\n",
    "mean1= statistics.mean([0,5,9,14])   # mean()代表 資料的算術平均數（平均值）。\n",
    "std1=statistics.stdev([0,5,9,14])    # stdev()代表 資料的樣本標準差。\n",
    "\n",
    "print(f'[0,5,9,14]的平均值是{mean1}')\n",
    "print(f'[0,5,9,14]的標準差是{std1}')"
   ]
  },
  {
   "cell_type": "code",
   "execution_count": 6,
   "metadata": {},
   "outputs": [
    {
     "name": "stdout",
     "output_type": "stream",
     "text": [
      "age=21\n",
      "已成年\n",
      "程式結束\n"
     ]
    }
   ],
   "source": [
    "age=21\n",
    "print(f\"age={age}\")\n",
    "\n",
    "if age>= 18:                      # if程式區塊\n",
    "    print(\"已成年\")\n",
    "\n",
    "print(\"程式結束\")"
   ]
  },
  {
   "cell_type": "code",
   "execution_count": 8,
   "metadata": {},
   "outputs": [
    {
     "name": "stdout",
     "output_type": "stream",
     "text": [
      "age=17\n",
      "未成年\n",
      "程式結束\n"
     ]
    }
   ],
   "source": [
    "age=17\n",
    "print(f\"age={age}\")\n",
    "\n",
    "if age>= 18:                      #if else程式區塊\n",
    "    print(\"已成年\")\n",
    "else:\n",
    "    print(\"未成年\")\n",
    "\n",
    "print(\"程式結束\")"
   ]
  },
  {
   "cell_type": "code",
   "execution_count": 9,
   "metadata": {},
   "outputs": [
    {
     "name": "stdout",
     "output_type": "stream",
     "text": [
      "學生分數是:288.75\n"
     ]
    }
   ],
   "source": [
    "#學生總分為300分\n",
    "#有些學生可以加5%\n",
    "#如果加分完超過300,就以300分為準\n",
    "#輸入超過300分,出現警告\n",
    "#巢狀判斷\n",
    "\n",
    "scores = int(input(\"請輸入學生總分(最高分):\"))\n",
    "if scores < 300:\n",
    "    is_add = input(\"學生是否符合加分條件?(y,n)\")\n",
    "\n",
    "    #巢狀判斷\n",
    "    if is_add == \"y\":\n",
    "        scores *= 1.05\n",
    "        if scores > 300:\n",
    "            scores = 300\n",
    "\n",
    "        print(f\"學生分數是:{scores}\")\n",
    "    else:\n",
    "        print(\"輸入錯誤!\")\n",
    "\n"
   ]
  },
  {
   "cell_type": "code",
   "execution_count": null,
   "metadata": {},
   "outputs": [],
   "source": []
  },
  {
   "cell_type": "code",
   "execution_count": 8,
   "metadata": {},
   "outputs": [
    {
     "name": "stdout",
     "output_type": "stream",
     "text": [
      "500\n"
     ]
    }
   ],
   "source": [
    "try:\n",
    "    money = int(input(\"請輸入金額: \"))\n",
    "    print(money)\n",
    "except:\n",
    "    print(\"輸入格式有誤!\")"
   ]
  },
  {
   "cell_type": "code",
   "execution_count": null,
   "metadata": {},
   "outputs": [],
   "source": [
    "#學生總分為300分\n",
    "#有些學生可以加5%\n",
    "#如果加分完超過300,就以300分為準\n",
    "#輸入超過300分,出現警告\n",
    "#巢狀判斷\n",
    "#例外判斷(try, except)\n",
    "try:\n",
    "    scores = int(input(\"請輸入學生總分(最高分):\"))\n",
    "    if scores < 300:\n",
    "        is_add = input(\"學生是否符合加分條件?(y,n)\")\n",
    "\n",
    "        #巢狀判斷\n",
    "        if is_add == \"y\":\n",
    "            scores *= 1.05\n",
    "            if scores > 300:\n",
    "                scores = 300\n",
    "\n",
    "            print(f\"學生分數是:{scores}\")\n",
    "        else:\n",
    "            print(\"輸入錯誤!\")\n",
    "except ValueError as err:\n",
    "    print(f\"輸入錯誤{err}\")\n",
    "except TypeError as err:\n",
    "    print(f\"類型錯誤{err}\")\n",
    "except:\n",
    "    print(\"不知名的錯誤\")"
   ]
  },
  {
   "cell_type": "code",
   "execution_count": 13,
   "metadata": {},
   "outputs": [],
   "source": [
    "import pyinputplus as pypi"
   ]
  },
  {
   "cell_type": "code",
   "execution_count": null,
   "metadata": {},
   "outputs": [],
   "source": [
    "#學生總分為300分\n",
    "#有些學生可以加5%\n",
    "#如果加分完超過300,就以300分為準\n",
    "#輸入超過300分,出現警告\n",
    "#巢狀判斷\n",
    "#例外判斷(try, except, 先判斷例外狀況)\n",
    "try:\n",
    "    scores = int(input(\"請輸入學生總分(最高分):\"))\n",
    "except ValueError as err:\n",
    "    print(f\"輸入錯誤{err}\")\n",
    "except TypeError as err:\n",
    "    print(f\"類型錯誤{err}\")\n",
    "except:\n",
    "    print(\"不知名的錯誤\")\n",
    "else:\n",
    "    if scores < 300:\n",
    "        is_add = input(\"學生是否符合加分條件?(y,n)\")\n",
    "\n",
    "        #巢狀判斷\n",
    "        if is_add == \"y\":\n",
    "            scores *= 1.05\n",
    "            if scores > 300:\n",
    "                scores = 300\n",
    "\n",
    "            print(f\"學生分數是:{scores}\")\n",
    "        else:\n",
    "            print(\"輸入錯誤!\")"
   ]
  },
  {
   "cell_type": "code",
   "execution_count": 14,
   "metadata": {},
   "outputs": [],
   "source": [
    "#學生總分為300\n",
    "#有些學生可以加分5%\n",
    "#如果加分完超過300,就以300分為準\n",
    "#輸入超過300分,出現警告\n",
    "#巢狀判斷\n",
    "try:\n",
    "    scores = int(input(\"請輸入學生分數(最高300分):\"))    \n",
    "except ValueError as err:\n",
    "    print(f\"輸入錯誤{err}\")\n",
    "except TypeError as err:\n",
    "    print(f\"類型錯誤{err}\")\n",
    "except:\n",
    "    print(\"不知名的錯誤\")\n",
    "else:\n",
    "    if scores <= 300:\n",
    "        is_add = input(\"學生是否符合加分條件?(y,n)\")\n",
    "\n",
    "        #巢狀判斷\n",
    "        if is_add == \"y\":\n",
    "            scores *= 1.05\n",
    "            if scores > 300:\n",
    "                scores = 300\n",
    "\n",
    "        print(f\"學生分數是:{scores}\")\n",
    "    else:\n",
    "        print(\"輸入錯誤\")"
   ]
  }
 ],
 "metadata": {
  "kernelspec": {
   "display_name": "Python 3",
   "language": "python",
   "name": "python3"
  },
  "language_info": {
   "codemirror_mode": {
    "name": "ipython",
    "version": 3
   },
   "file_extension": ".py",
   "mimetype": "text/x-python",
   "name": "python",
   "nbconvert_exporter": "python",
   "pygments_lexer": "ipython3",
   "version": "3.10.13"
  }
 },
 "nbformat": 4,
 "nbformat_minor": 2
}
